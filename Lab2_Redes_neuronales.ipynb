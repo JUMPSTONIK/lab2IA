{
 "cells": [
  {
   "cell_type": "code",
   "execution_count": 1,
   "metadata": {
    "colab": {},
    "colab_type": "code",
    "id": "8S0FN2jNwuEi"
   },
   "outputs": [],
   "source": [
    "#descripcion: este es un clasificador de ropa del repo Fasion Minst con el que utilizare Redes Neuronales para hacer la clasificacion\n",
    "#Josue David Lopez Florian 17081"
   ]
  },
  {
   "cell_type": "code",
   "execution_count": 3,
   "metadata": {
    "colab": {},
    "colab_type": "code",
    "id": "A0941T18w__N",
    "scrolled": true
   },
   "outputs": [],
   "source": [
    "#librerias a usar\n",
    "import tensorflow as tf\n",
    "from tensorflow import keras\n",
    "import numpy as np\n",
    "import matplotlib.pyplot as plt\n",
    "import random"
   ]
  },
  {
   "cell_type": "markdown",
   "metadata": {
    "colab_type": "text",
    "id": "Kk5ZpJ59Kcn6"
   },
   "source": [
    "lo primero es obtener y cargar el dataset. Ya que hemos revisado la documentacion, pues tenemos una idea de que nos podemos encontrar dentro de el."
   ]
  },
  {
   "cell_type": "code",
   "execution_count": 4,
   "metadata": {
    "colab": {},
    "colab_type": "code",
    "id": "te3FA3ddxKRm"
   },
   "outputs": [
    {
     "name": "stdout",
     "output_type": "stream",
     "text": [
      "Downloading data from https://storage.googleapis.com/tensorflow/tf-keras-datasets/train-labels-idx1-ubyte.gz\n",
      "32768/29515 [=================================] - 0s 1us/step\n",
      "Downloading data from https://storage.googleapis.com/tensorflow/tf-keras-datasets/train-images-idx3-ubyte.gz\n",
      "26427392/26421880 [==============================] - 3s 0us/step\n",
      "Downloading data from https://storage.googleapis.com/tensorflow/tf-keras-datasets/t10k-labels-idx1-ubyte.gz\n",
      "8192/5148 [===============================================] - 0s 0us/step\n",
      "Downloading data from https://storage.googleapis.com/tensorflow/tf-keras-datasets/t10k-images-idx3-ubyte.gz\n",
      "4423680/4422102 [==============================] - 0s 0us/step\n"
     ]
    }
   ],
   "source": [
    "#cargar el data ser\n",
    "fashion_mnist = keras.datasets.fashion_mnist\n",
    "(train_images, train_labels), (test_images, test_labels) = fashion_mnist.load_data()\n"
   ]
  },
  {
   "cell_type": "markdown",
   "metadata": {
    "colab_type": "text",
    "id": "wsScWEPlKNvA"
   },
   "source": [
    "en esta siguiente parte veremos el codifo para poder visualizar las imagenes que vienen dentro del dataset. los rangos esta de 0 a 9 en el img_index, pues es la variable para elegir el tipo de ropa a visualizar"
   ]
  },
  {
   "cell_type": "code",
   "execution_count": 5,
   "metadata": {
    "colab": {
     "base_uri": "https://localhost:8080/",
     "height": 299
    },
    "colab_type": "code",
    "id": "PxgImJqcxu6B",
    "outputId": "426c03a9-1cf3-4535-d4b6-57f6e89f5fab"
   },
   "outputs": [
    {
     "name": "stdout",
     "output_type": "stream",
     "text": [
      "Etiqueta de la imagen 3\n"
     ]
    },
    {
     "data": {
      "text/plain": [
       "<matplotlib.image.AxesImage at 0x15f901447c0>"
      ]
     },
     "execution_count": 5,
     "metadata": {},
     "output_type": "execute_result"
    },
    {
     "data": {
      "image/png": "[encoded data removed]",
      "text/plain": [
       "<Figure size 432x288 with 1 Axes>"
      ]
     },
     "metadata": {
      "needs_background": "light"
     },
     "output_type": "display_data"
    }
   ],
   "source": [
    "#visualizar el training para las imagenes\n",
    "img_index = 3\n",
    "img = train_images[img_index]\n",
    "print(\"Etiqueta de la imagen\", train_labels[img_index])\n",
    "plt.imshow(img)"
   ]
  },
  {
   "cell_type": "markdown",
   "metadata": {
    "colab_type": "text",
    "id": "B6pItpm2LDCK"
   },
   "source": [
    "en la siguiente parte veremos la forma y dimensiones de los data set de train y test a usar en este lab"
   ]
  },
  {
   "cell_type": "code",
   "execution_count": 6,
   "metadata": {
    "colab": {
     "base_uri": "https://localhost:8080/",
     "height": 51
    },
    "colab_type": "code",
    "id": "LuT1Dxvvyo4z",
    "outputId": "965a2640-08fb-4d1f-f4b9-b312e3219629"
   },
   "outputs": [
    {
     "name": "stdout",
     "output_type": "stream",
     "text": [
      "(60000, 28, 28)\n",
      "(10000, 28, 28)\n"
     ]
    }
   ],
   "source": [
    "#imprimiendo la forma de las imagenes\n",
    "print(train_images.shape)\n",
    "print(test_images.shape)"
   ]
  },
  {
   "cell_type": "markdown",
   "metadata": {
    "colab_type": "text",
    "id": "8r8Iga1qLMAM"
   },
   "source": [
    "aqui ocurre la implementacion de nuestro modelo de la red neuronal para llevar a cabo la clasificacion"
   ]
  },
  {
   "cell_type": "code",
   "execution_count": 7,
   "metadata": {
    "colab": {},
    "colab_type": "code",
    "id": "WC8YvuOXy30F"
   },
   "outputs": [],
   "source": [
    "#creando el modelo de la red neuronal\n",
    "model = keras.Sequential([\n",
    "  keras.layers.Flatten(input_shape=(28,28)),\n",
    "  keras.layers.Dense(128, activation=tf.nn.relu),\n",
    "  keras.layers.Dense(10, activation=tf.nn.softmax)\n",
    "])"
   ]
  },
  {
   "cell_type": "code",
   "execution_count": 8,
   "metadata": {
    "colab": {},
    "colab_type": "code",
    "id": "eICjDZ9mzZtX"
   },
   "outputs": [],
   "source": [
    "#compilando el modelo\n",
    "model.compile(\n",
    "    optimizer = tf.optimizers.Adam(),\n",
    "    loss = 'sparse_categorical_crossentropy',\n",
    "    metrics=['accuracy']\n",
    ")"
   ]
  },
  {
   "cell_type": "markdown",
   "metadata": {
    "colab_type": "text",
    "id": "XaV5xh7oLT__"
   },
   "source": [
    "ahora entrenamos el modelo para poder obtener el mejor acurracy que nos de los mejores indicadores"
   ]
  },
  {
   "cell_type": "code",
   "execution_count": 9,
   "metadata": {
    "colab": {
     "base_uri": "https://localhost:8080/",
     "height": 204
    },
    "colab_type": "code",
    "id": "1I1CLBknzzwA",
    "outputId": "c2a1ac78-83e0-49b6-cfb7-a62644b709af"
   },
   "outputs": [
    {
     "name": "stdout",
     "output_type": "stream",
     "text": [
      "Epoch 1/5\n",
      "1875/1875 [==============================] - 2s 1ms/step - loss: 2.8837 - accuracy: 0.7019\n",
      "Epoch 2/5\n",
      "1875/1875 [==============================] - 2s 1ms/step - loss: 0.6641 - accuracy: 0.7654\n",
      "Epoch 3/5\n",
      "1875/1875 [==============================] - 2s 1ms/step - loss: 0.6105 - accuracy: 0.7818\n",
      "Epoch 4/5\n",
      "1875/1875 [==============================] - 3s 1ms/step - loss: 0.5527 - accuracy: 0.8046\n",
      "Epoch 5/5\n",
      "1875/1875 [==============================] - 3s 1ms/step - loss: 0.5268 - accuracy: 0.8165\n"
     ]
    },
    {
     "data": {
      "text/plain": [
       "<tensorflow.python.keras.callbacks.History at 0x15fac02bac0>"
      ]
     },
     "execution_count": 9,
     "metadata": {},
     "output_type": "execute_result"
    }
   ],
   "source": [
    "#aqui se entrena al modelo\n",
    "model.fit(train_images, train_labels, epochs=5, batch_size=32)"
   ]
  },
  {
   "cell_type": "code",
   "execution_count": 10,
   "metadata": {
    "colab": {
     "base_uri": "https://localhost:8080/",
     "height": 51
    },
    "colab_type": "code",
    "id": "zcPfCosT1CfC",
    "outputId": "a537c415-c044-446d-d53f-2a583cef3e7e"
   },
   "outputs": [
    {
     "name": "stdout",
     "output_type": "stream",
     "text": [
      "313/313 [==============================] - 0s 1ms/step - loss: 0.5623 - accuracy: 0.8128\n"
     ]
    },
    {
     "data": {
      "text/plain": [
       "[0.56226646900177, 0.8127999901771545]"
      ]
     },
     "execution_count": 10,
     "metadata": {},
     "output_type": "execute_result"
    }
   ],
   "source": [
    "#aqui evaluare el modelo\n",
    "model.evaluate(test_images, test_labels)"
   ]
  },
  {
   "cell_type": "markdown",
   "metadata": {
    "colab_type": "text",
    "id": "xS7mCVf6LdL3"
   },
   "source": [
    "el modelo puede variar de acurracy, dependiendo los valores, pero obtenemos un confiable 0.8 como minimo de ocurrancy. ESto no da un 80% en que nuestro modelo ha sido bien entrenado con las capas usadas en el y es lo suficientemente confiable."
   ]
  },
  {
   "cell_type": "markdown",
   "metadata": {
    "colab_type": "text",
    "id": "lRpGH62-Ltbz"
   },
   "source": [
    "En esta seccion iniciamos la clasifiacion con el modelo entrenado y cualquier prenda random. Para no hacer tan pesado este procedimiento lo haremos con un mino de 5 a 10 prendas de todo el dataset. aqui se debera volver a correr el programa para obtener resultados distinto enla siguiente seccion de codigo."
   ]
  },
  {
   "cell_type": "code",
   "execution_count": 11,
   "metadata": {
    "colab": {
     "base_uri": "https://localhost:8080/",
     "height": 51
    },
    "colab_type": "code",
    "id": "gGOYuCyj1RCt",
    "outputId": "1c75250e-51c7-4416-cfb4-8357db9aa30d"
   },
   "outputs": [
    {
     "name": "stdout",
     "output_type": "stream",
     "text": [
      "[4 4 2 0 6 0 8 7 6]\n",
      "[6 4 2 6 6 3 8 7 6]\n"
     ]
    }
   ],
   "source": [
    "#aqui haremos las clasificaciones de la ropa\n",
    "var2 = random.randint(5, 10)\n",
    "var1 = random.randint(0, 6000 - var2)\n",
    "predictions = model.predict(test_images[var1:var1+var2])\n",
    "\n",
    "#mostrando la clasificacion por etiquetas\n",
    "print(np.argmax(predictions, axis=1))\n",
    "\n",
    "#mostrar el valor de la etiqueta actual\n",
    "print(test_labels[var1:var1+var2])"
   ]
  },
  {
   "cell_type": "markdown",
   "metadata": {
    "colab_type": "text",
    "id": "3j7x5WgcMDEk"
   },
   "source": [
    "podemos ver que los numero encajan con los de arriba la mayor parte. esto nos da a entender que se ha clasificado correctamente los que tienen el mismo numero de prenda correspondiente a su posicion en el array."
   ]
  },
  {
   "cell_type": "markdown",
   "metadata": {
    "colab_type": "text",
    "id": "MS-lRiL2MOy8"
   },
   "source": [
    "En esta seccion podemos visualizar cuales fueron las imagenes clasificadas y ver si encajan con la prediccion hecha por el algoritmo."
   ]
  },
  {
   "cell_type": "code",
   "execution_count": 12,
   "metadata": {
    "colab": {
     "base_uri": "https://localhost:8080/",
     "height": 1000
    },
    "colab_type": "code",
    "id": "YfkeZ8Iu2W2f",
    "outputId": "a14249fd-75a1-48b6-8f52-385dce82748d"
   },
   "outputs": [
    {
     "data": {
      "image/png": "[encoded data removed]",
      "text/plain": [
       "<Figure size 432x288 with 1 Axes>"
      ]
     },
     "metadata": {
      "needs_background": "light"
     },
     "output_type": "display_data"
    },
    {
     "data": {
      "image/png": "[encoded data removed]",
      "text/plain": [
       "<Figure size 432x288 with 1 Axes>"
      ]
     },
     "metadata": {
      "needs_background": "light"
     },
     "output_type": "display_data"
    },
    {
     "data": {
      "image/png": "[encoded data removed]",
      "text/plain": [
       "<Figure size 432x288 with 1 Axes>"
      ]
     },
     "metadata": {
      "needs_background": "light"
     },
     "output_type": "display_data"
    },
    {
     "data": {
      "image/png": "[encoded data removed]",
      "text/plain": [
       "<Figure size 432x288 with 1 Axes>"
      ]
     },
     "metadata": {
      "needs_background": "light"
     },
     "output_type": "display_data"
    },
    {
     "data": {
      "image/png": "[encoded data removed]",
      "text/plain": [
       "<Figure size 432x288 with 1 Axes>"
      ]
     },
     "metadata": {
      "needs_background": "light"
     },
     "output_type": "display_data"
    },
    {
     "data": {
      "image/png": "[encoded data removed]",
      "text/plain": [
       "<Figure size 432x288 with 1 Axes>"
      ]
     },
     "metadata": {
      "needs_background": "light"
     },
     "output_type": "display_data"
    },
    {
     "data": {
      "image/png": "[encoded data removed]",
      "text/plain": [
       "<Figure size 432x288 with 1 Axes>"
      ]
     },
     "metadata": {
      "needs_background": "light"
     },
     "output_type": "display_data"
    },
    {
     "data": {
      "image/png": "[encoded data removed]",
      "text/plain": [
       "<Figure size 432x288 with 1 Axes>"
      ]
     },
     "metadata": {
      "needs_background": "light"
     },
     "output_type": "display_data"
    },
    {
     "data": {
      "image/png": "[encoded data removed]",
      "text/plain": [
       "<Figure size 432x288 with 1 Axes>"
      ]
     },
     "metadata": {
      "needs_background": "light"
     },
     "output_type": "display_data"
    }
   ],
   "source": [
    "#imprimir hasta un minimo de 5 imagenes\n",
    "for i in range(var1,var1+var2):\n",
    "  first_image = test_images[i]\n",
    "  first_image = np.array(first_image, dtype='float')\n",
    "  pixels =first_image.reshape(28,28)\n",
    "  plt.imshow(test_images[i], cmap = 'gray')\n",
    "  plt.show()"
   ]
  },
  {
   "cell_type": "markdown",
   "metadata": {
    "colab_type": "text",
    "id": "Bu-1a4UXMgG4"
   },
   "source": [
    "Con estos resultados podemos dar seguridad de que el modelo funciona muy bien y que solo basta con ver los resultados obtenidos para de acurracy. Ademas que las predicciones encajan con sus respectivas prendas, en la mayoria de casos."
   ]
  },
  {
   "cell_type": "code",
   "execution_count": 18,
   "metadata": {},
   "outputs": [
    {
     "name": "stdout",
     "output_type": "stream",
     "text": [
      "The watermark extension is already loaded. To reload it, use:\n",
      "  %reload_ext watermark\n",
      "tensorflow       2.2.0\n",
      "numpy            1.18.4\n",
      "tensorflow.keras 2.3.0-tf\n",
      "\n"
     ]
    }
   ],
   "source": [
    "%load_ext watermark\n",
    "%watermark --iversions"
   ]
  },
  {
   "cell_type": "code",
   "execution_count": null,
   "metadata": {},
   "outputs": [],
   "source": []
  }
 ],
 "metadata": {
  "colab": {
   "name": "Lab2 - Redes neuronales.ipynb",
   "provenance": []
  },
  "kernelspec": {
   "display_name": "Python 3",
   "language": "python",
   "name": "python3"
  },
  "language_info": {
   "codemirror_mode": {
    "name": "ipython",
    "version": 3
   },
   "file_extension": ".py",
   "mimetype": "text/x-python",
   "name": "python",
   "nbconvert_exporter": "python",
   "pygments_lexer": "ipython3",
   "version": "3.8.3"
  }
 },
 "nbformat": 4,
 "nbformat_minor": 4
}
